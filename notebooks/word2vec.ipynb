{
 "cells": [
  {
   "cell_type": "code",
   "execution_count": 1,
   "id": "d99eaec7-3f98-471f-9792-18d2fe9622c4",
   "metadata": {},
   "outputs": [
    {
     "name": "stderr",
     "output_type": "stream",
     "text": [
      "D:\\learnX_ai\\venv\\lib\\site-packages\\tqdm\\auto.py:21: TqdmWarning: IProgress not found. Please update jupyter and ipywidgets. See https://ipywidgets.readthedocs.io/en/stable/user_install.html\n",
      "  from .autonotebook import tqdm as notebook_tqdm\n"
     ]
    }
   ],
   "source": [
    "import tensorflow as tf\n",
    "import tensorflow_datasets as tfds\n",
    "import pandas as pd\n",
    "import re\n",
    "import string\n",
    "import tqdm\n",
    "import numpy as np"
   ]
  },
  {
   "cell_type": "code",
   "execution_count": 2,
   "id": "c8cd89bb-e7df-4e97-b020-6c031ef4a4d4",
   "metadata": {
    "scrolled": true
   },
   "outputs": [
    {
     "data": {
      "text/plain": [
       "['abstract_reasoning',\n",
       " 'accentdb',\n",
       " 'aeslc',\n",
       " 'aflw2k3d',\n",
       " 'ag_news_subset',\n",
       " 'ai2_arc',\n",
       " 'ai2_arc_with_ir',\n",
       " 'amazon_us_reviews',\n",
       " 'anli',\n",
       " 'answer_equivalence',\n",
       " 'arc',\n",
       " 'asqa',\n",
       " 'asset',\n",
       " 'assin2',\n",
       " 'bair_robot_pushing_small',\n",
       " 'bccd',\n",
       " 'beans',\n",
       " 'bee_dataset',\n",
       " 'beir',\n",
       " 'big_patent',\n",
       " 'bigearthnet',\n",
       " 'billsum',\n",
       " 'binarized_mnist',\n",
       " 'binary_alpha_digits',\n",
       " 'ble_wind_field',\n",
       " 'blimp',\n",
       " 'booksum',\n",
       " 'bool_q',\n",
       " 'bucc',\n",
       " 'c4',\n",
       " 'c4_wsrs',\n",
       " 'caltech101',\n",
       " 'caltech_birds2010',\n",
       " 'caltech_birds2011',\n",
       " 'cardiotox',\n",
       " 'cars196',\n",
       " 'cassava',\n",
       " 'cats_vs_dogs',\n",
       " 'celeb_a',\n",
       " 'celeb_a_hq',\n",
       " 'cfq',\n",
       " 'cherry_blossoms',\n",
       " 'chexpert',\n",
       " 'cifar10',\n",
       " 'cifar100',\n",
       " 'cifar100_n',\n",
       " 'cifar10_1',\n",
       " 'cifar10_corrupted',\n",
       " 'cifar10_n',\n",
       " 'citrus_leaves',\n",
       " 'cityscapes',\n",
       " 'civil_comments',\n",
       " 'clevr',\n",
       " 'clic',\n",
       " 'clinc_oos',\n",
       " 'cmaterdb',\n",
       " 'cnn_dailymail',\n",
       " 'coco',\n",
       " 'coco_captions',\n",
       " 'coil100',\n",
       " 'colorectal_histology',\n",
       " 'colorectal_histology_large',\n",
       " 'common_voice',\n",
       " 'conll2002',\n",
       " 'conll2003',\n",
       " 'controlled_noisy_web_labels',\n",
       " 'coqa',\n",
       " 'cos_e',\n",
       " 'cosmos_qa',\n",
       " 'covid19',\n",
       " 'covid19sum',\n",
       " 'crema_d',\n",
       " 'criteo',\n",
       " 'cs_restaurants',\n",
       " 'curated_breast_imaging_ddsm',\n",
       " 'cycle_gan',\n",
       " 'd4rl_adroit_door',\n",
       " 'd4rl_adroit_hammer',\n",
       " 'd4rl_adroit_pen',\n",
       " 'd4rl_adroit_relocate',\n",
       " 'd4rl_antmaze',\n",
       " 'd4rl_mujoco_ant',\n",
       " 'd4rl_mujoco_halfcheetah',\n",
       " 'd4rl_mujoco_hopper',\n",
       " 'd4rl_mujoco_walker2d',\n",
       " 'dart',\n",
       " 'davis',\n",
       " 'deep1b',\n",
       " 'deep_weeds',\n",
       " 'definite_pronoun_resolution',\n",
       " 'dementiabank',\n",
       " 'diabetic_retinopathy_detection',\n",
       " 'diamonds',\n",
       " 'div2k',\n",
       " 'dmlab',\n",
       " 'doc_nli',\n",
       " 'dolphin_number_word',\n",
       " 'domainnet',\n",
       " 'downsampled_imagenet',\n",
       " 'drop',\n",
       " 'dsprites',\n",
       " 'dtd',\n",
       " 'duke_ultrasound',\n",
       " 'e2e_cleaned',\n",
       " 'efron_morris75',\n",
       " 'emnist',\n",
       " 'eraser_multi_rc',\n",
       " 'esnli',\n",
       " 'eurosat',\n",
       " 'fashion_mnist',\n",
       " 'flic',\n",
       " 'flores',\n",
       " 'food101',\n",
       " 'forest_fires',\n",
       " 'fuss',\n",
       " 'gap',\n",
       " 'geirhos_conflict_stimuli',\n",
       " 'gem',\n",
       " 'genomics_ood',\n",
       " 'german_credit_numeric',\n",
       " 'gigaword',\n",
       " 'glove100_angular',\n",
       " 'glue',\n",
       " 'goemotions',\n",
       " 'gov_report',\n",
       " 'gpt3',\n",
       " 'gref',\n",
       " 'groove',\n",
       " 'grounded_scan',\n",
       " 'gsm8k',\n",
       " 'gtzan',\n",
       " 'gtzan_music_speech',\n",
       " 'hellaswag',\n",
       " 'higgs',\n",
       " 'hillstrom',\n",
       " 'horses_or_humans',\n",
       " 'howell',\n",
       " 'i_naturalist2017',\n",
       " 'i_naturalist2018',\n",
       " 'i_naturalist2021',\n",
       " 'imagenet2012',\n",
       " 'imagenet2012_corrupted',\n",
       " 'imagenet2012_fewshot',\n",
       " 'imagenet2012_multilabel',\n",
       " 'imagenet2012_real',\n",
       " 'imagenet2012_subset',\n",
       " 'imagenet_a',\n",
       " 'imagenet_lt',\n",
       " 'imagenet_pi',\n",
       " 'imagenet_r',\n",
       " 'imagenet_resized',\n",
       " 'imagenet_sketch',\n",
       " 'imagenet_v2',\n",
       " 'imagenette',\n",
       " 'imagewang',\n",
       " 'imdb_reviews',\n",
       " 'irc_disentanglement',\n",
       " 'iris',\n",
       " 'istella',\n",
       " 'kddcup99',\n",
       " 'kitti',\n",
       " 'kmnist',\n",
       " 'laion400m',\n",
       " 'lambada',\n",
       " 'lfw',\n",
       " 'librispeech',\n",
       " 'librispeech_lm',\n",
       " 'libritts',\n",
       " 'ljspeech',\n",
       " 'lm1b',\n",
       " 'locomotion',\n",
       " 'lost_and_found',\n",
       " 'lsun',\n",
       " 'lvis',\n",
       " 'malaria',\n",
       " 'math_dataset',\n",
       " 'math_qa',\n",
       " 'mctaco',\n",
       " 'media_sum',\n",
       " 'mlqa',\n",
       " 'mnist',\n",
       " 'mnist_corrupted',\n",
       " 'movie_lens',\n",
       " 'movie_rationales',\n",
       " 'movielens',\n",
       " 'moving_mnist',\n",
       " 'mrqa',\n",
       " 'mslr_web',\n",
       " 'mt_opt',\n",
       " 'mtnt',\n",
       " 'multi_news',\n",
       " 'multi_nli',\n",
       " 'multi_nli_mismatch',\n",
       " 'natural_instructions',\n",
       " 'natural_questions',\n",
       " 'natural_questions_open',\n",
       " 'newsroom',\n",
       " 'nsynth',\n",
       " 'nyu_depth_v2',\n",
       " 'ogbg_molpcba',\n",
       " 'omniglot',\n",
       " 'open_images_challenge2019_detection',\n",
       " 'open_images_v4',\n",
       " 'openbookqa',\n",
       " 'opinion_abstracts',\n",
       " 'opinosis',\n",
       " 'opus',\n",
       " 'oxford_flowers102',\n",
       " 'oxford_iiit_pet',\n",
       " 'para_crawl',\n",
       " 'pass',\n",
       " 'patch_camelyon',\n",
       " 'paws_wiki',\n",
       " 'paws_x_wiki',\n",
       " 'penguins',\n",
       " 'pet_finder',\n",
       " 'pg19',\n",
       " 'piqa',\n",
       " 'places365_small',\n",
       " 'placesfull',\n",
       " 'plant_leaves',\n",
       " 'plant_village',\n",
       " 'plantae_k',\n",
       " 'protein_net',\n",
       " 'q_re_cc',\n",
       " 'qa4mre',\n",
       " 'qasc',\n",
       " 'quac',\n",
       " 'quality',\n",
       " 'quickdraw_bitmap',\n",
       " 'race',\n",
       " 'radon',\n",
       " 'reddit',\n",
       " 'reddit_disentanglement',\n",
       " 'reddit_tifu',\n",
       " 'ref_coco',\n",
       " 'resisc45',\n",
       " 'rlu_atari',\n",
       " 'rlu_atari_checkpoints',\n",
       " 'rlu_atari_checkpoints_ordered',\n",
       " 'rlu_control_suite',\n",
       " 'rlu_dmlab_explore_object_rewards_few',\n",
       " 'rlu_dmlab_explore_object_rewards_many',\n",
       " 'rlu_dmlab_rooms_select_nonmatching_object',\n",
       " 'rlu_dmlab_rooms_watermaze',\n",
       " 'rlu_dmlab_seekavoid_arena01',\n",
       " 'rlu_locomotion',\n",
       " 'rlu_rwrl',\n",
       " 'robomimic_mg',\n",
       " 'robomimic_mh',\n",
       " 'robomimic_ph',\n",
       " 'robonet',\n",
       " 'robosuite_panda_pick_place_can',\n",
       " 'rock_paper_scissors',\n",
       " 'rock_you',\n",
       " 's3o4d',\n",
       " 'salient_span_wikipedia',\n",
       " 'samsum',\n",
       " 'savee',\n",
       " 'scan',\n",
       " 'scene_parse150',\n",
       " 'schema_guided_dialogue',\n",
       " 'sci_tail',\n",
       " 'scicite',\n",
       " 'scientific_papers',\n",
       " 'scrolls',\n",
       " 'sentiment140',\n",
       " 'shapes3d',\n",
       " 'sift1m',\n",
       " 'simpte',\n",
       " 'siscore',\n",
       " 'smallnorb',\n",
       " 'smartwatch_gestures',\n",
       " 'snli',\n",
       " 'so2sat',\n",
       " 'speech_commands',\n",
       " 'spoken_digit',\n",
       " 'squad',\n",
       " 'squad_question_generation',\n",
       " 'stanford_dogs',\n",
       " 'stanford_online_products',\n",
       " 'star_cfq',\n",
       " 'starcraft_video',\n",
       " 'stl10',\n",
       " 'story_cloze',\n",
       " 'summscreen',\n",
       " 'sun397',\n",
       " 'super_glue',\n",
       " 'svhn_cropped',\n",
       " 'symmetric_solids',\n",
       " 'tao',\n",
       " 'tatoeba',\n",
       " 'ted_hrlr_translate',\n",
       " 'ted_multi_translate',\n",
       " 'tedlium',\n",
       " 'tf_flowers',\n",
       " 'the300w_lp',\n",
       " 'tiny_shakespeare',\n",
       " 'titanic',\n",
       " 'trec',\n",
       " 'trivia_qa',\n",
       " 'tydi_qa',\n",
       " 'uc_merced',\n",
       " 'ucf101',\n",
       " 'unified_qa',\n",
       " 'universal_dependencies',\n",
       " 'unnatural_instructions',\n",
       " 'user_libri_audio',\n",
       " 'user_libri_text',\n",
       " 'vctk',\n",
       " 'visual_domain_decathlon',\n",
       " 'voc',\n",
       " 'voxceleb',\n",
       " 'voxforge',\n",
       " 'waymo_open_dataset',\n",
       " 'web_graph',\n",
       " 'web_nlg',\n",
       " 'web_questions',\n",
       " 'webvid',\n",
       " 'wider_face',\n",
       " 'wiki40b',\n",
       " 'wiki_auto',\n",
       " 'wiki_bio',\n",
       " 'wiki_dialog',\n",
       " 'wiki_table_questions',\n",
       " 'wiki_table_text',\n",
       " 'wikiann',\n",
       " 'wikihow',\n",
       " 'wikipedia',\n",
       " 'wikipedia_toxicity_subtypes',\n",
       " 'wine_quality',\n",
       " 'winogrande',\n",
       " 'wit',\n",
       " 'wit_kaggle',\n",
       " 'wmt13_translate',\n",
       " 'wmt14_translate',\n",
       " 'wmt15_translate',\n",
       " 'wmt16_translate',\n",
       " 'wmt17_translate',\n",
       " 'wmt18_translate',\n",
       " 'wmt19_translate',\n",
       " 'wmt_t2t_translate',\n",
       " 'wmt_translate',\n",
       " 'wordnet',\n",
       " 'wsc273',\n",
       " 'xnli',\n",
       " 'xquad',\n",
       " 'xsum',\n",
       " 'xtreme_pawsx',\n",
       " 'xtreme_pos',\n",
       " 'xtreme_s',\n",
       " 'xtreme_xnli',\n",
       " 'yahoo_ltrc',\n",
       " 'yelp_polarity_reviews',\n",
       " 'yes_no',\n",
       " 'youtube_vis']"
      ]
     },
     "execution_count": 2,
     "metadata": {},
     "output_type": "execute_result"
    }
   ],
   "source": [
    "tfds.list_builders()"
   ]
  },
  {
   "cell_type": "code",
   "execution_count": 3,
   "id": "c1680fc5-ffab-40b5-999a-b195fa8c15a4",
   "metadata": {},
   "outputs": [
    {
     "name": "stdout",
     "output_type": "stream",
     "text": [
      "['the', 'wide', 'road', 'shimmered', 'in', 'the', 'hot', 'sun.']\n"
     ]
    }
   ],
   "source": [
    "sentence = \"The wide road shimmered in the hot sun.\"\n",
    "tokens = list(sentence.lower().split())\n",
    "print(tokens)"
   ]
  },
  {
   "cell_type": "code",
   "execution_count": 31,
   "id": "c0147b42-fa15-498c-a6c1-29c8ed221c70",
   "metadata": {},
   "outputs": [],
   "source": [
    "SEED = 42\n",
    "AUTOTUNE = tf.data.AUTOTUNE"
   ]
  },
  {
   "cell_type": "code",
   "execution_count": 7,
   "id": "03f71701-cd49-4f88-9b50-955380614530",
   "metadata": {},
   "outputs": [],
   "source": [
    "vocab, index = {},1\n",
    "vocab[\"<pad>\"] = 0\n",
    "for token in tokens:\n",
    "    if token not in vocab:\n",
    "        vocab[token] = index\n",
    "        index = index+1"
   ]
  },
  {
   "cell_type": "code",
   "execution_count": 8,
   "id": "1479e9a0-38d2-4c37-a075-23ca0fb7394c",
   "metadata": {},
   "outputs": [
    {
     "data": {
      "text/plain": [
       "{'<pad>': 0,\n",
       " 'the': 1,\n",
       " 'wide': 2,\n",
       " 'road': 3,\n",
       " 'shimmered': 4,\n",
       " 'in': 5,\n",
       " 'hot': 6,\n",
       " 'sun.': 7}"
      ]
     },
     "execution_count": 8,
     "metadata": {},
     "output_type": "execute_result"
    }
   ],
   "source": [
    "vocab"
   ]
  },
  {
   "cell_type": "code",
   "execution_count": 17,
   "id": "8ae524c3-492d-4f82-a7e8-37aa858c3c7f",
   "metadata": {},
   "outputs": [],
   "source": [
    "inverse_vocab = { j:i for i,j in vocab.items() }"
   ]
  },
  {
   "cell_type": "code",
   "execution_count": 18,
   "id": "9b588255-d2f7-4286-adec-f14238905a59",
   "metadata": {},
   "outputs": [
    {
     "data": {
      "text/plain": [
       "{0: '<pad>',\n",
       " 1: 'the',\n",
       " 2: 'wide',\n",
       " 3: 'road',\n",
       " 4: 'shimmered',\n",
       " 5: 'in',\n",
       " 6: 'hot',\n",
       " 7: 'sun.'}"
      ]
     },
     "execution_count": 18,
     "metadata": {},
     "output_type": "execute_result"
    }
   ],
   "source": [
    "inverse_vocab"
   ]
  },
  {
   "cell_type": "code",
   "execution_count": 19,
   "id": "3c609414-cde5-4afe-976c-82e70934f45c",
   "metadata": {},
   "outputs": [
    {
     "data": {
      "text/plain": [
       "[1, 2, 3, 4, 5, 1, 6, 7]"
      ]
     },
     "execution_count": 19,
     "metadata": {},
     "output_type": "execute_result"
    }
   ],
   "source": [
    "#vectorize the sentence\n",
    "example_sequence = [vocab[token] for token in tokens]\n",
    "example_sequence"
   ]
  },
  {
   "cell_type": "code",
   "execution_count": 99,
   "id": "e7c21058-f330-410d-befd-224920bcdd73",
   "metadata": {},
   "outputs": [],
   "source": [
    "#Generate Skip-grams for one sentence\n",
    "window_size = 2\n",
    "positive_skipgrams,_ = tf.keras.preprocessing.sequence.skipgrams(example_sequence, vocabulary_size = len(vocab), window_size = window_size, negative_samples = 0)"
   ]
  },
  {
   "cell_type": "code",
   "execution_count": 100,
   "id": "02b1064a-ffa1-42a3-ae39-875612168efd",
   "metadata": {},
   "outputs": [
    {
     "data": {
      "text/plain": [
       "26"
      ]
     },
     "execution_count": 100,
     "metadata": {},
     "output_type": "execute_result"
    }
   ],
   "source": [
    "len(positive_skipgrams)"
   ]
  },
  {
   "cell_type": "code",
   "execution_count": 101,
   "id": "a80ef3d4-5994-416a-aea5-bbcc3c7d94d2",
   "metadata": {},
   "outputs": [
    {
     "name": "stdout",
     "output_type": "stream",
     "text": [
      "(3,1):(road,the)\n",
      "(3,5):(road,in)\n",
      "(5,3):(in,road)\n",
      "(4,3):(shimmered,road)\n",
      "(1,3):(the,road)\n",
      "(1,6):(the,hot)\n",
      "(7,1):(sun.,the)\n",
      "(4,1):(shimmered,the)\n",
      "(6,1):(hot,the)\n",
      "(1,2):(the,wide)\n",
      "(1,7):(the,sun.)\n",
      "(1,5):(the,in)\n",
      "(7,6):(sun.,hot)\n",
      "(3,4):(road,shimmered)\n",
      "(6,7):(hot,sun.)\n",
      "(5,6):(in,hot)\n",
      "(2,4):(wide,shimmered)\n",
      "(1,4):(the,shimmered)\n",
      "(2,3):(wide,road)\n",
      "(2,1):(wide,the)\n",
      "(5,4):(in,shimmered)\n",
      "(4,2):(shimmered,wide)\n",
      "(3,2):(road,wide)\n",
      "(4,5):(shimmered,in)\n",
      "(6,5):(hot,in)\n",
      "(5,1):(in,the)\n"
     ]
    }
   ],
   "source": [
    "for target, context in positive_skipgrams[:]:\n",
    "    print(f\"({target},{context}):({inverse_vocab[target]},{inverse_vocab[context]})\")"
   ]
  },
  {
   "cell_type": "code",
   "execution_count": 102,
   "id": "ca2d94dd-90c2-4ac8-8dd5-a41df1241b46",
   "metadata": {},
   "outputs": [
    {
     "name": "stdout",
     "output_type": "stream",
     "text": [
      "tf.Tensor([2 1 3 4], shape=(4,), dtype=int64)\n",
      "['wide', 'the', 'road', 'shimmered']\n"
     ]
    }
   ],
   "source": [
    "target_word, context_word = positive_skipgrams[0]\n",
    "num_ns = 4\n",
    "context_class = tf.reshape(tf.constant(context_word,dtype=\"int64\"),(1,1))\n",
    "negative_sampling_candidates, _, _ = tf.random.log_uniform_candidate_sampler(\n",
    "    true_classes = context_class,\n",
    "    num_true = 1,\n",
    "    num_sampled = num_ns,\n",
    "    unique=True,\n",
    "    range_max = len(vocab),\n",
    "    seed=SEED,\n",
    "    name=\"negative_sampling\"\n",
    ")\n",
    "print(negative_sampling_candidates)\n",
    "print([inverse_vocab[index] for index in negative_sampling_candidates.numpy()])"
   ]
  },
  {
   "cell_type": "code",
   "execution_count": 103,
   "id": "95b1b5eb-2851-4fe2-b1b6-4723afccb07d",
   "metadata": {},
   "outputs": [],
   "source": [
    "squeezed_context_class = tf.squeeze(context_class,1)\n",
    "context = tf.concat([squeezed_context_class, negative_sampling_candidates],0)\n",
    "label = tf.constant([1]+[0]*num_ns,dtype=\"int64\")\n",
    "target = target_word"
   ]
  },
  {
   "cell_type": "code",
   "execution_count": 104,
   "id": "64675eb4-b861-4f41-b9d9-4f1da2bf6364",
   "metadata": {},
   "outputs": [
    {
     "name": "stdout",
     "output_type": "stream",
     "text": [
      "target_index    : 3\n",
      "target_word     : road\n",
      "context_indices : [1 2 1 3 4]\n",
      "context_words   : ['the', 'wide', 'the', 'road', 'shimmered']\n",
      "label           : [1 0 0 0 0]\n"
     ]
    }
   ],
   "source": [
    "print(f\"target_index    : {target}\")\n",
    "print(f\"target_word     : {inverse_vocab[target_word]}\")\n",
    "print(f\"context_indices : {context}\")\n",
    "print(f\"context_words   : {[inverse_vocab[c.numpy()] for c in context]}\")\n",
    "print(f\"label           : {label}\")"
   ]
  },
  {
   "cell_type": "code",
   "execution_count": 105,
   "id": "9faa5b93-e72f-4f0f-9ee4-1273cf86a5a2",
   "metadata": {},
   "outputs": [
    {
     "name": "stdout",
     "output_type": "stream",
     "text": [
      "[0.00315225 0.00315225 0.00547597 0.00741556 0.00912817 0.01068435\n",
      " 0.01212381 0.01347162 0.01474487 0.0159558 ]\n"
     ]
    }
   ],
   "source": [
    "sampling_table = tf.keras.preprocessing.sequence.make_sampling_table(size=10)\n",
    "print(sampling_table)"
   ]
  },
  {
   "cell_type": "code",
   "execution_count": 134,
   "id": "6b6164d0-cc6e-44eb-8cb7-314196a8f7a2",
   "metadata": {},
   "outputs": [],
   "source": [
    "def generate_training_data(sequences, window_size, num_ns, vocab_size, seed):\n",
    "\n",
    "    targets, contexts, labels = [], [], []\n",
    "    sampling_table = tf.keras.preprocessing.sequence.make_sampling_table(vocab_size)\n",
    "\n",
    "    for sequence in tqdm.tqdm(sequences):\n",
    "\n",
    "        positive_skipgrams, _ = tf.keras.preprocessing.sequence.skipgrams(sequence, vocabulary_size=vocab_size, sampling_table=sampling_table, window_size=window_size, negative_samples=0)\n",
    "\n",
    "        for target_word, context_word in positive_skipgrams:\n",
    "\n",
    "            context_class = tf.expand_dims(tf.constant([context_word], dtype=\"int64\"), 1)\n",
    "            negative_sampling_candidates, _, _ = tf.random.log_uniform_candidate_sampler(true_classes=context_class, num_true=1, num_sampled=num_ns, unique=True, range_max=vocab_size, seed=seed, name=\"negative_subsampling\")\n",
    "\n",
    "            context = tf.concat([tf.squeeze(context_class,1), negative_sampling_candidates], 0)\n",
    "            label = tf.constant([1] + [0] * num_ns, dtype=\"int64\")\n",
    "\n",
    "            targets.append(target_word)\n",
    "            contexts.append(context)\n",
    "            labels.append(label)\n",
    "\n",
    "    return targets, contexts, labels\n",
    "    "
   ]
  },
  {
   "cell_type": "code",
   "execution_count": 107,
   "id": "51b14bf7-7df5-4cb7-9489-4316dd1d5271",
   "metadata": {},
   "outputs": [],
   "source": [
    "path_to_file = tf.keras.utils.get_file('shakespeare.txt', 'https://storage.googleapis.com/download.tensorflow.org/data/shakespeare.txt')"
   ]
  },
  {
   "cell_type": "code",
   "execution_count": 108,
   "id": "75ae4fdc-0491-4247-b7c8-0305eb0ce83e",
   "metadata": {},
   "outputs": [
    {
     "name": "stdout",
     "output_type": "stream",
     "text": [
      "First Citizen:\n",
      "Before we proceed any further, hear me speak.\n",
      "\n",
      "All:\n",
      "Speak, speak.\n",
      "\n",
      "First Citizen:\n",
      "You are all resolved rather to die than to famish?\n",
      "\n",
      "All:\n",
      "Resolved. resolved.\n",
      "\n",
      "First Citizen:\n",
      "First, you know Caius Marcius is chief enemy to the people.\n",
      "\n",
      "All:\n",
      "We know't, we know't.\n",
      "\n",
      "First Citizen:\n",
      "Let us kill him, and we'll have corn at our own price.\n"
     ]
    }
   ],
   "source": [
    "with open(path_to_file) as f:\n",
    "  lines = f.read().splitlines()\n",
    "for line in lines[:20]:\n",
    "  print(line)"
   ]
  },
  {
   "cell_type": "code",
   "execution_count": 111,
   "id": "3782eaed-5364-485e-bf18-6ac892ce6671",
   "metadata": {},
   "outputs": [],
   "source": [
    "text_ds = tf.data.TextLineDataset(path_to_file).filter(lambda x: tf.cast(tf.strings.length(x), bool))"
   ]
  },
  {
   "cell_type": "code",
   "execution_count": 112,
   "id": "501ab60d-e95e-48e6-8c0d-31e6f18c7447",
   "metadata": {},
   "outputs": [],
   "source": [
    "def custom_standardization(input_data):\n",
    "    lowercase = tf.strings.lower(input_data)\n",
    "    return tf.strings.regex_replace(lowercase,'[%s]' %re.escape(string.punctuation),'')\n",
    "    "
   ]
  },
  {
   "cell_type": "code",
   "execution_count": 113,
   "id": "b9043345-a69b-4342-beba-8baf5faf11d2",
   "metadata": {},
   "outputs": [],
   "source": [
    "vocab_size = 4096\n",
    "sequence_length = 10"
   ]
  },
  {
   "cell_type": "code",
   "execution_count": 115,
   "id": "2dc391d0-325f-4070-9805-e433827fdb3a",
   "metadata": {},
   "outputs": [],
   "source": [
    "vectorize_layer = tf.keras.layers.TextVectorization(standardize=custom_standardization,\n",
    "                                   max_tokens=vocab_size,\n",
    "                                   output_mode='int',\n",
    "                                   output_sequence_length=sequence_length)"
   ]
  },
  {
   "cell_type": "code",
   "execution_count": 116,
   "id": "4f3e5cc4-75f6-4ccb-88e8-b812c1380774",
   "metadata": {},
   "outputs": [],
   "source": [
    "vectorize_layer.adapt(text_ds.batch(1024))"
   ]
  },
  {
   "cell_type": "code",
   "execution_count": 117,
   "id": "b3cd606f-b404-43c9-8d07-2f09e0c3f617",
   "metadata": {},
   "outputs": [
    {
     "name": "stdout",
     "output_type": "stream",
     "text": [
      "['', '[UNK]', 'the', 'and', 'to', 'i', 'of', 'you', 'my', 'a', 'that', 'in', 'is', 'not', 'for', 'with', 'me', 'it', 'be', 'your', 'his', 'this', 'but', 'he', 'have', 'as', 'thou', 'him', 'so', 'what', 'thy', 'will', 'no', 'by', 'all', 'king', 'we', 'shall', 'her', 'if', 'our', 'are', 'do', 'thee', 'now', 'lord', 'good', 'on', 'o', 'come', 'from', 'sir', 'or', 'which', 'more', 'then', 'well', 'at', 'would', 'was', 'they', 'how', 'here', 'she', 'than', 'their', 'them', 'ill', 'duke', 'am', 'hath', 'say', 'let', 'when', 'one', 'go', 'were', 'love', 'may', 'us', 'make', 'upon', 'yet', 'richard', 'like', 'there', 'must', 'should', 'an', 'first', 'why', 'queen', 'had', 'know', 'man', 'did', 'tis', 'where', 'see', 'some', 'too', 'death', 'give', 'who', 'these', 'take', 'speak', 'edward', 'york', 'mine', 'such', 'up', 'out', 'henry', 'romeo', 'can', 'father', 'tell', 'time', 'gloucester', 'most', 'lady', 'son', 'nor', 'vincentio', 'hear', 'life', 'god', 'made', 'art', 'warwick', 'think', 'much', 'heart', 'never', 'doth', 'brother', 'ay', 'before', 'true', 'both', 'thus', 'cannot', 'petruchio', 'any', 'being', 'away', 'blood', 'name', 'fair', 'coriolanus', 'been', 'noble', 'men', 'menenius', 'look', 'again', 'very', 'hand', 'day', 'pray', 'own', 'juliet', 'done', 'sweet', 'second', 'myself', 'therefore', 'leave', 'great', 'against', 'though', 'poor', 'honour', 'down', 'prince', 'hast', 'way', 'angelo', 'fear', 'old', 'nay', 'heaven', 'clarence', 'till', 'call', 'eyes', 'world', 'stay', 'live', 'stand', 'nurse', 'grace', 'many', 'comes', 'ever', 'even', 'wife', 'nothing', 'iii', 'die', 'dead', 'whose', 'bear', 'night', 'other', 'isabella', 'bolingbroke', 'friends', 'leontes', 'head', 'friar', 'peace', 'buckingham', 'unto', 'those', 'better', 'lords', 'word', 'off', 'gone', 'tranio', 'two', 'mother', 'hence', 'marcius', 'house', 'still', 'since', 'news', 'lucio', 'could', 'sicinius', 'master', 'little', 'gentleman', 'daughter', 'soul', 'thing', 'put', 'once', 'whom', 'margaret', 'set', 'long', 'himself', 'face', 'camillo', 'words', 'thine']\n"
     ]
    }
   ],
   "source": [
    "inverse_vocab = vectorize_layer.get_vocabulary()\n",
    "print(inverse_vocab[:250])"
   ]
  },
  {
   "cell_type": "code",
   "execution_count": 118,
   "id": "70422920-53a5-40f6-8535-cc22fab090bf",
   "metadata": {},
   "outputs": [],
   "source": [
    "# Vectorize the data in text_ds.\n",
    "text_vector_ds = text_ds.batch(1024).prefetch(AUTOTUNE).map(vectorize_layer).unbatch()"
   ]
  },
  {
   "cell_type": "code",
   "execution_count": 123,
   "id": "7da978f1-cafb-4c4f-8f93-fc8320e0ab6d",
   "metadata": {},
   "outputs": [],
   "source": [
    "sequences = list(text_vector_ds.as_numpy_iterator())"
   ]
  },
  {
   "cell_type": "code",
   "execution_count": 124,
   "id": "892e48bd-0857-4954-a8e9-45eb445605aa",
   "metadata": {},
   "outputs": [
    {
     "data": {
      "text/plain": [
       "32777"
      ]
     },
     "execution_count": 124,
     "metadata": {},
     "output_type": "execute_result"
    }
   ],
   "source": [
    "len(sequences)"
   ]
  },
  {
   "cell_type": "code",
   "execution_count": 128,
   "id": "675d8af5-8b24-49a1-82d9-8ae97d36da6b",
   "metadata": {},
   "outputs": [
    {
     "name": "stdout",
     "output_type": "stream",
     "text": [
      "[ 89 270   0   0   0   0   0   0   0   0] ==> ['first', 'citizen', '', '', '', '', '', '', '', '']\n",
      "[138  36 982 144 673 125  16 106   0   0] ==> ['before', 'we', 'proceed', 'any', 'further', 'hear', 'me', 'speak', '', '']\n",
      "[34  0  0  0  0  0  0  0  0  0] ==> ['all', '', '', '', '', '', '', '', '', '']\n",
      "[106 106   0   0   0   0   0   0   0   0] ==> ['speak', 'speak', '', '', '', '', '', '', '', '']\n",
      "[ 89 270   0   0   0   0   0   0   0   0] ==> ['first', 'citizen', '', '', '', '', '', '', '', '']\n"
     ]
    }
   ],
   "source": [
    "for sequence in sequences[:5]:\n",
    "    print(f\"{sequence} ==> {[inverse_vocab[i] for i in sequence]}\")"
   ]
  },
  {
   "cell_type": "code",
   "execution_count": 135,
   "id": "bf1a5304-2431-4872-b50d-948fc8c5800e",
   "metadata": {},
   "outputs": [
    {
     "name": "stderr",
     "output_type": "stream",
     "text": [
      "100%|██████████████████████████████████████████████████████████████████████████| 32777/32777 [00:13<00:00, 2417.04it/s]\n"
     ]
    }
   ],
   "source": [
    "targets, contexts, labels = generate_training_data(\n",
    "    sequences = sequences,\n",
    "    window_size = 2,\n",
    "    num_ns=4,\n",
    "    vocab_size = vocab_size,\n",
    "    seed=SEED\n",
    ")"
   ]
  },
  {
   "cell_type": "code",
   "execution_count": 138,
   "id": "01e32d3a-abc1-4942-8293-6b7d0b8c1c97",
   "metadata": {},
   "outputs": [
    {
     "name": "stdout",
     "output_type": "stream",
     "text": [
      "\n",
      "\n",
      "targets.shape: (65038,)\n",
      "contexts.shape: (65038, 5)\n",
      "labels.shape: (65038, 5)\n"
     ]
    }
   ],
   "source": [
    "targets = np.array(targets)\n",
    "contexts = np.array(contexts)\n",
    "labels = np.array(labels)\n",
    "\n",
    "print('\\n')\n",
    "print(f\"targets.shape: {targets.shape}\")\n",
    "print(f\"contexts.shape: {contexts.shape}\")\n",
    "print(f\"labels.shape: {labels.shape}\")"
   ]
  },
  {
   "cell_type": "code",
   "execution_count": 139,
   "id": "55503b1d-118c-4fc7-ab58-39ffd152e8aa",
   "metadata": {},
   "outputs": [
    {
     "name": "stdout",
     "output_type": "stream",
     "text": [
      "<_BatchDataset element_spec=((TensorSpec(shape=(1024,), dtype=tf.int64, name=None), TensorSpec(shape=(1024, 5), dtype=tf.int64, name=None)), TensorSpec(shape=(1024, 5), dtype=tf.int64, name=None))>\n"
     ]
    }
   ],
   "source": [
    "BATCH_SIZE = 1024\n",
    "BUFFER_SIZE = 10000\n",
    "dataset = tf.data.Dataset.from_tensor_slices(((targets, contexts), labels))\n",
    "dataset = dataset.shuffle(BUFFER_SIZE).batch(BATCH_SIZE, drop_remainder=True)\n",
    "print(dataset)"
   ]
  },
  {
   "cell_type": "code",
   "execution_count": 140,
   "id": "bb183858-0432-4f6d-9150-4705745f4a42",
   "metadata": {},
   "outputs": [
    {
     "name": "stdout",
     "output_type": "stream",
     "text": [
      "<_PrefetchDataset element_spec=((TensorSpec(shape=(1024,), dtype=tf.int64, name=None), TensorSpec(shape=(1024, 5), dtype=tf.int64, name=None)), TensorSpec(shape=(1024, 5), dtype=tf.int64, name=None))>\n"
     ]
    }
   ],
   "source": [
    "dataset = dataset.cache().prefetch(buffer_size=AUTOTUNE)\n",
    "print(dataset)"
   ]
  },
  {
   "cell_type": "code",
   "execution_count": 141,
   "id": "33655a27-a0fc-45c3-926c-cb19d98fee71",
   "metadata": {},
   "outputs": [],
   "source": [
    "class Word2Vec(tf.keras.Model):\n",
    "  def __init__(self, vocab_size, embedding_dim):\n",
    "    super(Word2Vec, self).__init__()\n",
    "    self.target_embedding = layers.Embedding(vocab_size,\n",
    "                                      embedding_dim,\n",
    "                                      name=\"w2v_embedding\")\n",
    "    self.context_embedding = layers.Embedding(vocab_size,\n",
    "                                       embedding_dim)\n",
    "\n",
    "  def call(self, pair):\n",
    "    target, context = pair\n",
    "    # target: (batch, dummy?)  # The dummy axis doesn't exist in TF2.7+\n",
    "    # context: (batch, context)\n",
    "    if len(target.shape) == 2:\n",
    "      target = tf.squeeze(target, axis=1)\n",
    "    # target: (batch,)\n",
    "    word_emb = self.target_embedding(target)\n",
    "    # word_emb: (batch, embed)\n",
    "    context_emb = self.context_embedding(context)\n",
    "    # context_emb: (batch, context, embed)\n",
    "    dots = tf.einsum('be,bce->bc', word_emb, context_emb)\n",
    "    # dots: (batch, context)\n",
    "    return dots"
   ]
  },
  {
   "cell_type": "code",
   "execution_count": 4,
   "id": "ff7da98e-d917-409e-b062-ebe574eaec4e",
   "metadata": {},
   "outputs": [
    {
     "name": "stdout",
     "output_type": "stream",
     "text": [
      "<_PrefetchDataset element_spec={'answers': {'answer_start': TensorSpec(shape=(None,), dtype=tf.int32, name=None), 'text': TensorSpec(shape=(None,), dtype=tf.string, name=None)}, 'context': TensorSpec(shape=(), dtype=tf.string, name=None), 'id': TensorSpec(shape=(), dtype=tf.string, name=None), 'question': TensorSpec(shape=(), dtype=tf.string, name=None), 'title': TensorSpec(shape=(), dtype=tf.string, name=None)}>\n"
     ]
    }
   ],
   "source": [
    "#Preparing SQUAD Dataset\n",
    "train_ds, train_info = tfds.load(\"squad\",split=\"train\",shuffle_files=True,with_info=True)\n",
    "assert isinstance(train_ds,tf.data.Dataset)\n",
    "print(train_ds)"
   ]
  },
  {
   "cell_type": "code",
   "execution_count": 5,
   "id": "180ef51e-2368-4939-a965-49977025b160",
   "metadata": {},
   "outputs": [],
   "source": [
    "val_ds, val_info = tfds.load(\"squad\",split=\"validation\",shuffle_files=True,with_info=True)"
   ]
  },
  {
   "cell_type": "code",
   "execution_count": 7,
   "id": "9f14025e-976c-4c8b-a455-d9c66093a8ff",
   "metadata": {},
   "outputs": [],
   "source": [
    "train_df = tfds.as_dataframe(train_ds.take(-1),train_info)"
   ]
  },
  {
   "cell_type": "code",
   "execution_count": 8,
   "id": "d90dd87c-d048-41d1-bbe9-375788facfe1",
   "metadata": {},
   "outputs": [
    {
     "data": {
      "text/plain": [
       "['answers/answer_start', 'answers/text', 'context', 'id', 'question', 'title']"
      ]
     },
     "execution_count": 8,
     "metadata": {},
     "output_type": "execute_result"
    }
   ],
   "source": [
    "train_df.columns.to_list()"
   ]
  },
  {
   "cell_type": "code",
   "execution_count": 9,
   "id": "dcefbadd-8172-423b-aa9d-d7b2b4410070",
   "metadata": {},
   "outputs": [
    {
     "name": "stdout",
     "output_type": "stream",
     "text": [
      "<class 'tensorflow_datasets.core.as_dataframe.StyledDataFrame'>\n",
      "RangeIndex: 87599 entries, 0 to 87598\n",
      "Data columns (total 6 columns):\n",
      " #   Column                Non-Null Count  Dtype \n",
      "---  ------                --------------  ----- \n",
      " 0   answers/answer_start  87599 non-null  object\n",
      " 1   answers/text          87599 non-null  object\n",
      " 2   context               87599 non-null  object\n",
      " 3   id                    87599 non-null  object\n",
      " 4   question              87599 non-null  object\n",
      " 5   title                 87599 non-null  object\n",
      "dtypes: object(6)\n",
      "memory usage: 4.0+ MB\n"
     ]
    }
   ],
   "source": [
    "train_df.info()"
   ]
  },
  {
   "cell_type": "code",
   "execution_count": 40,
   "id": "5ecee659-eaf4-4e87-b0bb-c90e3853f6f4",
   "metadata": {},
   "outputs": [],
   "source": [
    "val_df = tfds.as_dataframe(val_ds.take(-1),val_info)"
   ]
  },
  {
   "cell_type": "code",
   "execution_count": 41,
   "id": "bd6a3828-1522-422e-9aef-7ffb01455fdb",
   "metadata": {},
   "outputs": [
    {
     "name": "stdout",
     "output_type": "stream",
     "text": [
      "<class 'tensorflow_datasets.core.as_dataframe.StyledDataFrame'>\n",
      "RangeIndex: 10570 entries, 0 to 10569\n",
      "Data columns (total 6 columns):\n",
      " #   Column                Non-Null Count  Dtype \n",
      "---  ------                --------------  ----- \n",
      " 0   answers/answer_start  10570 non-null  object\n",
      " 1   answers/text          10570 non-null  object\n",
      " 2   context               10570 non-null  object\n",
      " 3   id                    10570 non-null  object\n",
      " 4   question              10570 non-null  object\n",
      " 5   title                 10570 non-null  object\n",
      "dtypes: object(6)\n",
      "memory usage: 495.6+ KB\n"
     ]
    }
   ],
   "source": [
    "val_df.info()"
   ]
  },
  {
   "cell_type": "code",
   "execution_count": 49,
   "id": "60a64906-0e6b-4a98-9f35-4f0a3fd3fb3c",
   "metadata": {
    "scrolled": true
   },
   "outputs": [
    {
     "data": {
      "text/html": [
       "<div>\n",
       "<style scoped>\n",
       "    .dataframe tbody tr th:only-of-type {\n",
       "        vertical-align: middle;\n",
       "    }\n",
       "\n",
       "    .dataframe tbody tr th {\n",
       "        vertical-align: top;\n",
       "    }\n",
       "\n",
       "    .dataframe thead th {\n",
       "        text-align: right;\n",
       "    }\n",
       "</style>\n",
       "<table border=\"1\" class=\"dataframe\">\n",
       "  <thead>\n",
       "    <tr style=\"text-align: right;\">\n",
       "      <th></th>\n",
       "      <th>answers/answer_start</th>\n",
       "      <th>answers/text</th>\n",
       "      <th>context</th>\n",
       "      <th>id</th>\n",
       "      <th>question</th>\n",
       "      <th>title</th>\n",
       "    </tr>\n",
       "  </thead>\n",
       "  <tbody>\n",
       "    <tr>\n",
       "      <th>10</th>\n",
       "      <td>[971]</td>\n",
       "      <td>[b'Tottenham Hotspur']</td>\n",
       "      <td>b'An exception to the usual European qualifica...</td>\n",
       "      <td>b'5733eddad058e614000b6609'</td>\n",
       "      <td>b'Which team was denied entry into the Champio...</td>\n",
       "      <td>b'Premier_League'</td>\n",
       "    </tr>\n",
       "    <tr>\n",
       "      <th>11</th>\n",
       "      <td>[151]</td>\n",
       "      <td>[b'Hayek']</td>\n",
       "      <td>b'In February 1975, Margaret Thatcher was elec...</td>\n",
       "      <td>b'572a5db3b8ce0319002e2ade'</td>\n",
       "      <td>b'Who did Thatcher meet with shortly after she...</td>\n",
       "      <td>b'Friedrich_Hayek'</td>\n",
       "    </tr>\n",
       "    <tr>\n",
       "      <th>12</th>\n",
       "      <td>[645]</td>\n",
       "      <td>[b'the bedchamber crisis']</td>\n",
       "      <td>b\"In 1839, Melbourne resigned after Radicals a...</td>\n",
       "      <td>b'5723d6630dadf01500fa1f49'</td>\n",
       "      <td>b'The removal of the Queens bedchamber ladies ...</td>\n",
       "      <td>b'Queen_Victoria'</td>\n",
       "    </tr>\n",
       "    <tr>\n",
       "      <th>13</th>\n",
       "      <td>[362]</td>\n",
       "      <td>[b'cyberbullying']</td>\n",
       "      <td>b\"Although research has been inconclusive, som...</td>\n",
       "      <td>b'570dc90a0b85d914000d7b5e'</td>\n",
       "      <td>b'Which online activity has been consistently ...</td>\n",
       "      <td>b'Adolescence'</td>\n",
       "    </tr>\n",
       "    <tr>\n",
       "      <th>14</th>\n",
       "      <td>[44]</td>\n",
       "      <td>[b'Congo River']</td>\n",
       "      <td>b'The capital, Brazzaville, is located on the ...</td>\n",
       "      <td>b'56dcfd2266d3e219004dab8c'</td>\n",
       "      <td>b'On what river can Brazzaville be found?'</td>\n",
       "      <td>b'Republic_of_the_Congo'</td>\n",
       "    </tr>\n",
       "    <tr>\n",
       "      <th>15</th>\n",
       "      <td>[145]</td>\n",
       "      <td>[b'Tampa Bay']</td>\n",
       "      <td>b'In 2010, the first year of the reconstituted...</td>\n",
       "      <td>b'56e7b60637bdd419002c43c4'</td>\n",
       "      <td>b'What team drew more than 13,000 fans per gam...</td>\n",
       "      <td>b'Arena_Football_League'</td>\n",
       "    </tr>\n",
       "    <tr>\n",
       "      <th>16</th>\n",
       "      <td>[120]</td>\n",
       "      <td>[b'The Inn valley']</td>\n",
       "      <td>b'Glaciers pick up rocks and sediment with the...</td>\n",
       "      <td>b'56f8960c9b226e1400dd0c53'</td>\n",
       "      <td>b'What is an example of a valley carved by gla...</td>\n",
       "      <td>b'Alps'</td>\n",
       "    </tr>\n",
       "    <tr>\n",
       "      <th>17</th>\n",
       "      <td>[380]</td>\n",
       "      <td>[b'chronic stomach trouble']</td>\n",
       "      <td>b'In March 1861, Victoria\\'s mother died, with...</td>\n",
       "      <td>b'5722ccb20dadf01500fa1ef5'</td>\n",
       "      <td>b'What was Albert ill with?'</td>\n",
       "      <td>b'Queen_Victoria'</td>\n",
       "    </tr>\n",
       "    <tr>\n",
       "      <th>18</th>\n",
       "      <td>[321]</td>\n",
       "      <td>[b'education']</td>\n",
       "      <td>b'The Sustainable Development Goals are ambiti...</td>\n",
       "      <td>b'56df4ef296943c1400a5d366'</td>\n",
       "      <td>b'What does the fourth goal focus on improving?'</td>\n",
       "      <td>b'United_Nations_Population_Fund'</td>\n",
       "    </tr>\n",
       "    <tr>\n",
       "      <th>19</th>\n",
       "      <td>[888]</td>\n",
       "      <td>[b'1974']</td>\n",
       "      <td>b\"The 1973\\xe2\\x80\\x9374 season saw the arriva...</td>\n",
       "      <td>b'570ab0116d058f1900183080'</td>\n",
       "      <td>b'When was Johan Cruyff crowned footballer of ...</td>\n",
       "      <td>b'FC_Barcelona'</td>\n",
       "    </tr>\n",
       "    <tr>\n",
       "      <th>20</th>\n",
       "      <td>[370]</td>\n",
       "      <td>[b'2005']</td>\n",
       "      <td>b'Scotland has a very different educational sy...</td>\n",
       "      <td>b'56dc7e6714d3a41400c26923'</td>\n",
       "      <td>b\"When was Scotland's latest rejection of the ...</td>\n",
       "      <td>b'Comprehensive_school'</td>\n",
       "    </tr>\n",
       "  </tbody>\n",
       "</table>\n",
       "</div>"
      ],
      "text/plain": [
       "   answers/answer_start                  answers/text  \\\n",
       "10                [971]        [b'Tottenham Hotspur']   \n",
       "11                [151]                    [b'Hayek']   \n",
       "12                [645]    [b'the bedchamber crisis']   \n",
       "13                [362]            [b'cyberbullying']   \n",
       "14                 [44]              [b'Congo River']   \n",
       "15                [145]                [b'Tampa Bay']   \n",
       "16                [120]           [b'The Inn valley']   \n",
       "17                [380]  [b'chronic stomach trouble']   \n",
       "18                [321]                [b'education']   \n",
       "19                [888]                     [b'1974']   \n",
       "20                [370]                     [b'2005']   \n",
       "\n",
       "                                              context  \\\n",
       "10  b'An exception to the usual European qualifica...   \n",
       "11  b'In February 1975, Margaret Thatcher was elec...   \n",
       "12  b\"In 1839, Melbourne resigned after Radicals a...   \n",
       "13  b\"Although research has been inconclusive, som...   \n",
       "14  b'The capital, Brazzaville, is located on the ...   \n",
       "15  b'In 2010, the first year of the reconstituted...   \n",
       "16  b'Glaciers pick up rocks and sediment with the...   \n",
       "17  b'In March 1861, Victoria\\'s mother died, with...   \n",
       "18  b'The Sustainable Development Goals are ambiti...   \n",
       "19  b\"The 1973\\xe2\\x80\\x9374 season saw the arriva...   \n",
       "20  b'Scotland has a very different educational sy...   \n",
       "\n",
       "                             id  \\\n",
       "10  b'5733eddad058e614000b6609'   \n",
       "11  b'572a5db3b8ce0319002e2ade'   \n",
       "12  b'5723d6630dadf01500fa1f49'   \n",
       "13  b'570dc90a0b85d914000d7b5e'   \n",
       "14  b'56dcfd2266d3e219004dab8c'   \n",
       "15  b'56e7b60637bdd419002c43c4'   \n",
       "16  b'56f8960c9b226e1400dd0c53'   \n",
       "17  b'5722ccb20dadf01500fa1ef5'   \n",
       "18  b'56df4ef296943c1400a5d366'   \n",
       "19  b'570ab0116d058f1900183080'   \n",
       "20  b'56dc7e6714d3a41400c26923'   \n",
       "\n",
       "                                             question  \\\n",
       "10  b'Which team was denied entry into the Champio...   \n",
       "11  b'Who did Thatcher meet with shortly after she...   \n",
       "12  b'The removal of the Queens bedchamber ladies ...   \n",
       "13  b'Which online activity has been consistently ...   \n",
       "14         b'On what river can Brazzaville be found?'   \n",
       "15  b'What team drew more than 13,000 fans per gam...   \n",
       "16  b'What is an example of a valley carved by gla...   \n",
       "17                       b'What was Albert ill with?'   \n",
       "18   b'What does the fourth goal focus on improving?'   \n",
       "19  b'When was Johan Cruyff crowned footballer of ...   \n",
       "20  b\"When was Scotland's latest rejection of the ...   \n",
       "\n",
       "                                title  \n",
       "10                  b'Premier_League'  \n",
       "11                 b'Friedrich_Hayek'  \n",
       "12                  b'Queen_Victoria'  \n",
       "13                     b'Adolescence'  \n",
       "14           b'Republic_of_the_Congo'  \n",
       "15           b'Arena_Football_League'  \n",
       "16                            b'Alps'  \n",
       "17                  b'Queen_Victoria'  \n",
       "18  b'United_Nations_Population_Fund'  \n",
       "19                    b'FC_Barcelona'  \n",
       "20            b'Comprehensive_school'  "
      ]
     },
     "execution_count": 49,
     "metadata": {},
     "output_type": "execute_result"
    }
   ],
   "source": [
    "train_df.loc[10:20,:]"
   ]
  },
  {
   "cell_type": "code",
   "execution_count": 10,
   "id": "94187784-645c-4bb5-9f9a-68440ecf1076",
   "metadata": {},
   "outputs": [
    {
     "data": {
      "text/html": [
       "<div>\n",
       "<style scoped>\n",
       "    .dataframe tbody tr th:only-of-type {\n",
       "        vertical-align: middle;\n",
       "    }\n",
       "\n",
       "    .dataframe tbody tr th {\n",
       "        vertical-align: top;\n",
       "    }\n",
       "\n",
       "    .dataframe thead th {\n",
       "        text-align: right;\n",
       "    }\n",
       "</style>\n",
       "<table border=\"1\" class=\"dataframe\">\n",
       "  <thead>\n",
       "    <tr style=\"text-align: right;\">\n",
       "      <th></th>\n",
       "      <th>answers/answer_start</th>\n",
       "      <th>answers/text</th>\n",
       "      <th>context</th>\n",
       "      <th>id</th>\n",
       "      <th>question</th>\n",
       "      <th>title</th>\n",
       "    </tr>\n",
       "  </thead>\n",
       "  <tbody>\n",
       "    <tr>\n",
       "      <th>0</th>\n",
       "      <td>[427]</td>\n",
       "      <td>[b'mobile phones']</td>\n",
       "      <td>b'The difference in the above factors for the ...</td>\n",
       "      <td>b'57306bf68ab72b1400f9c4dc'</td>\n",
       "      <td>b'What is one use that would require an antenn...</td>\n",
       "      <td>b'Antenna_(radio)'</td>\n",
       "    </tr>\n",
       "    <tr>\n",
       "      <th>1</th>\n",
       "      <td>[1020]</td>\n",
       "      <td>[b'300']</td>\n",
       "      <td>b\"The coronation of Charlemagne as emperor on ...</td>\n",
       "      <td>b'56fb69e38ddada1400cd63f7'</td>\n",
       "      <td>b'About how many counts existed in the Carolin...</td>\n",
       "      <td>b'Middle_Ages'</td>\n",
       "    </tr>\n",
       "    <tr>\n",
       "      <th>2</th>\n",
       "      <td>[339]</td>\n",
       "      <td>[b'fossil pollen deposits in sediments']</td>\n",
       "      <td>b'Plant responses to climate and other environ...</td>\n",
       "      <td>b'5726ccf9f1498d1400e8eb95'</td>\n",
       "      <td>b'How can climate changes be determined from s...</td>\n",
       "      <td>b'Botany'</td>\n",
       "    </tr>\n",
       "    <tr>\n",
       "      <th>3</th>\n",
       "      <td>[347]</td>\n",
       "      <td>[b'KMSB-TV 11']</td>\n",
       "      <td>b'The Tucson metro area is served by many loca...</td>\n",
       "      <td>b'573440114776f41900661b03'</td>\n",
       "      <td>b\"What is Tucson's Fox station?\"</td>\n",
       "      <td>b'Tucson,_Arizona'</td>\n",
       "    </tr>\n",
       "    <tr>\n",
       "      <th>4</th>\n",
       "      <td>[367]</td>\n",
       "      <td>[b'305']</td>\n",
       "      <td>b\"Situated on one of the world's largest natur...</td>\n",
       "      <td>b'56ce3124aab44d1400b8852d'</td>\n",
       "      <td>b'What is the size of New York City in square ...</td>\n",
       "      <td>b'New_York_City'</td>\n",
       "    </tr>\n",
       "  </tbody>\n",
       "</table>\n",
       "</div>"
      ],
      "text/plain": [
       "  answers/answer_start                              answers/text  \\\n",
       "0                [427]                        [b'mobile phones']   \n",
       "1               [1020]                                  [b'300']   \n",
       "2                [339]  [b'fossil pollen deposits in sediments']   \n",
       "3                [347]                           [b'KMSB-TV 11']   \n",
       "4                [367]                                  [b'305']   \n",
       "\n",
       "                                             context  \\\n",
       "0  b'The difference in the above factors for the ...   \n",
       "1  b\"The coronation of Charlemagne as emperor on ...   \n",
       "2  b'Plant responses to climate and other environ...   \n",
       "3  b'The Tucson metro area is served by many loca...   \n",
       "4  b\"Situated on one of the world's largest natur...   \n",
       "\n",
       "                            id  \\\n",
       "0  b'57306bf68ab72b1400f9c4dc'   \n",
       "1  b'56fb69e38ddada1400cd63f7'   \n",
       "2  b'5726ccf9f1498d1400e8eb95'   \n",
       "3  b'573440114776f41900661b03'   \n",
       "4  b'56ce3124aab44d1400b8852d'   \n",
       "\n",
       "                                            question               title  \n",
       "0  b'What is one use that would require an antenn...  b'Antenna_(radio)'  \n",
       "1  b'About how many counts existed in the Carolin...      b'Middle_Ages'  \n",
       "2  b'How can climate changes be determined from s...           b'Botany'  \n",
       "3                   b\"What is Tucson's Fox station?\"  b'Tucson,_Arizona'  \n",
       "4  b'What is the size of New York City in square ...    b'New_York_City'  "
      ]
     },
     "execution_count": 10,
     "metadata": {},
     "output_type": "execute_result"
    }
   ],
   "source": [
    "train_df.head()"
   ]
  },
  {
   "cell_type": "code",
   "execution_count": 13,
   "id": "00afd502-8b2d-4886-9ca7-31ef20202284",
   "metadata": {},
   "outputs": [
    {
     "data": {
      "text/plain": [
       "bytes"
      ]
     },
     "execution_count": 13,
     "metadata": {},
     "output_type": "execute_result"
    }
   ],
   "source": [
    "type(train_df.loc[0,\"answers/text\"][0])"
   ]
  },
  {
   "cell_type": "code",
   "execution_count": 24,
   "id": "6f4e738e-f1db-401a-9bbc-f125373f621a",
   "metadata": {},
   "outputs": [],
   "source": [
    "train_df[\"answers/text\"] = train_df[\"answers/text\"].apply(lambda x: x[0])"
   ]
  },
  {
   "cell_type": "code",
   "execution_count": 25,
   "id": "e7b29d90-7e77-425d-a495-31907f528d18",
   "metadata": {},
   "outputs": [],
   "source": [
    "train_df[\"answers/answer_start\"] = train_df[\"answers/answer_start\"].apply(lambda x: str(x[0]).encode())"
   ]
  },
  {
   "cell_type": "code",
   "execution_count": 26,
   "id": "a994cd48-9b39-4bcd-b6dc-73061b90d77d",
   "metadata": {},
   "outputs": [
    {
     "data": {
      "text/html": [
       "<div>\n",
       "<style scoped>\n",
       "    .dataframe tbody tr th:only-of-type {\n",
       "        vertical-align: middle;\n",
       "    }\n",
       "\n",
       "    .dataframe tbody tr th {\n",
       "        vertical-align: top;\n",
       "    }\n",
       "\n",
       "    .dataframe thead th {\n",
       "        text-align: right;\n",
       "    }\n",
       "</style>\n",
       "<table border=\"1\" class=\"dataframe\">\n",
       "  <thead>\n",
       "    <tr style=\"text-align: right;\">\n",
       "      <th></th>\n",
       "      <th>answers/answer_start</th>\n",
       "      <th>answers/text</th>\n",
       "      <th>context</th>\n",
       "      <th>id</th>\n",
       "      <th>question</th>\n",
       "      <th>title</th>\n",
       "    </tr>\n",
       "  </thead>\n",
       "  <tbody>\n",
       "    <tr>\n",
       "      <th>0</th>\n",
       "      <td>b'427'</td>\n",
       "      <td>b'mobile phones'</td>\n",
       "      <td>b'The difference in the above factors for the ...</td>\n",
       "      <td>b'57306bf68ab72b1400f9c4dc'</td>\n",
       "      <td>b'What is one use that would require an antenn...</td>\n",
       "      <td>b'Antenna_(radio)'</td>\n",
       "    </tr>\n",
       "    <tr>\n",
       "      <th>1</th>\n",
       "      <td>b'1020'</td>\n",
       "      <td>b'300'</td>\n",
       "      <td>b\"The coronation of Charlemagne as emperor on ...</td>\n",
       "      <td>b'56fb69e38ddada1400cd63f7'</td>\n",
       "      <td>b'About how many counts existed in the Carolin...</td>\n",
       "      <td>b'Middle_Ages'</td>\n",
       "    </tr>\n",
       "    <tr>\n",
       "      <th>2</th>\n",
       "      <td>b'339'</td>\n",
       "      <td>b'fossil pollen deposits in sediments'</td>\n",
       "      <td>b'Plant responses to climate and other environ...</td>\n",
       "      <td>b'5726ccf9f1498d1400e8eb95'</td>\n",
       "      <td>b'How can climate changes be determined from s...</td>\n",
       "      <td>b'Botany'</td>\n",
       "    </tr>\n",
       "    <tr>\n",
       "      <th>3</th>\n",
       "      <td>b'347'</td>\n",
       "      <td>b'KMSB-TV 11'</td>\n",
       "      <td>b'The Tucson metro area is served by many loca...</td>\n",
       "      <td>b'573440114776f41900661b03'</td>\n",
       "      <td>b\"What is Tucson's Fox station?\"</td>\n",
       "      <td>b'Tucson,_Arizona'</td>\n",
       "    </tr>\n",
       "    <tr>\n",
       "      <th>4</th>\n",
       "      <td>b'367'</td>\n",
       "      <td>b'305'</td>\n",
       "      <td>b\"Situated on one of the world's largest natur...</td>\n",
       "      <td>b'56ce3124aab44d1400b8852d'</td>\n",
       "      <td>b'What is the size of New York City in square ...</td>\n",
       "      <td>b'New_York_City'</td>\n",
       "    </tr>\n",
       "  </tbody>\n",
       "</table>\n",
       "</div>"
      ],
      "text/plain": [
       "  answers/answer_start                            answers/text  \\\n",
       "0               b'427'                        b'mobile phones'   \n",
       "1              b'1020'                                  b'300'   \n",
       "2               b'339'  b'fossil pollen deposits in sediments'   \n",
       "3               b'347'                           b'KMSB-TV 11'   \n",
       "4               b'367'                                  b'305'   \n",
       "\n",
       "                                             context  \\\n",
       "0  b'The difference in the above factors for the ...   \n",
       "1  b\"The coronation of Charlemagne as emperor on ...   \n",
       "2  b'Plant responses to climate and other environ...   \n",
       "3  b'The Tucson metro area is served by many loca...   \n",
       "4  b\"Situated on one of the world's largest natur...   \n",
       "\n",
       "                            id  \\\n",
       "0  b'57306bf68ab72b1400f9c4dc'   \n",
       "1  b'56fb69e38ddada1400cd63f7'   \n",
       "2  b'5726ccf9f1498d1400e8eb95'   \n",
       "3  b'573440114776f41900661b03'   \n",
       "4  b'56ce3124aab44d1400b8852d'   \n",
       "\n",
       "                                            question               title  \n",
       "0  b'What is one use that would require an antenn...  b'Antenna_(radio)'  \n",
       "1  b'About how many counts existed in the Carolin...      b'Middle_Ages'  \n",
       "2  b'How can climate changes be determined from s...           b'Botany'  \n",
       "3                   b\"What is Tucson's Fox station?\"  b'Tucson,_Arizona'  \n",
       "4  b'What is the size of New York City in square ...    b'New_York_City'  "
      ]
     },
     "execution_count": 26,
     "metadata": {},
     "output_type": "execute_result"
    }
   ],
   "source": [
    "train_df.head()"
   ]
  },
  {
   "cell_type": "code",
   "execution_count": 34,
   "id": "14a009e5-8284-4be2-b8e9-435e91900515",
   "metadata": {},
   "outputs": [],
   "source": [
    "train_df.to_csv(\"datasets/train.csv\",sep=\"#\",mode=\"wb\",index=False)"
   ]
  },
  {
   "cell_type": "code",
   "execution_count": 35,
   "id": "671d3451-488f-4933-9e74-e175a7ead94e",
   "metadata": {},
   "outputs": [],
   "source": [
    "copy = pd.read_csv(\"datasets/train.csv\",sep=\"#\")"
   ]
  },
  {
   "cell_type": "code",
   "execution_count": 37,
   "id": "d2e16439-65ca-4963-a850-af48ab0df14e",
   "metadata": {},
   "outputs": [
    {
     "data": {
      "text/html": [
       "<div>\n",
       "<style scoped>\n",
       "    .dataframe tbody tr th:only-of-type {\n",
       "        vertical-align: middle;\n",
       "    }\n",
       "\n",
       "    .dataframe tbody tr th {\n",
       "        vertical-align: top;\n",
       "    }\n",
       "\n",
       "    .dataframe thead th {\n",
       "        text-align: right;\n",
       "    }\n",
       "</style>\n",
       "<table border=\"1\" class=\"dataframe\">\n",
       "  <thead>\n",
       "    <tr style=\"text-align: right;\">\n",
       "      <th></th>\n",
       "      <th>answers/answer_start</th>\n",
       "      <th>answers/text</th>\n",
       "      <th>context</th>\n",
       "      <th>id</th>\n",
       "      <th>question</th>\n",
       "      <th>title</th>\n",
       "    </tr>\n",
       "  </thead>\n",
       "  <tbody>\n",
       "    <tr>\n",
       "      <th>0</th>\n",
       "      <td>b'427'</td>\n",
       "      <td>b'mobile phones'</td>\n",
       "      <td>b'The difference in the above factors for the ...</td>\n",
       "      <td>b'57306bf68ab72b1400f9c4dc'</td>\n",
       "      <td>b'What is one use that would require an antenn...</td>\n",
       "      <td>b'Antenna_(radio)'</td>\n",
       "    </tr>\n",
       "    <tr>\n",
       "      <th>1</th>\n",
       "      <td>b'1020'</td>\n",
       "      <td>b'300'</td>\n",
       "      <td>b\"The coronation of Charlemagne as emperor on ...</td>\n",
       "      <td>b'56fb69e38ddada1400cd63f7'</td>\n",
       "      <td>b'About how many counts existed in the Carolin...</td>\n",
       "      <td>b'Middle_Ages'</td>\n",
       "    </tr>\n",
       "    <tr>\n",
       "      <th>2</th>\n",
       "      <td>b'339'</td>\n",
       "      <td>b'fossil pollen deposits in sediments'</td>\n",
       "      <td>b'Plant responses to climate and other environ...</td>\n",
       "      <td>b'5726ccf9f1498d1400e8eb95'</td>\n",
       "      <td>b'How can climate changes be determined from s...</td>\n",
       "      <td>b'Botany'</td>\n",
       "    </tr>\n",
       "    <tr>\n",
       "      <th>3</th>\n",
       "      <td>b'347'</td>\n",
       "      <td>b'KMSB-TV 11'</td>\n",
       "      <td>b'The Tucson metro area is served by many loca...</td>\n",
       "      <td>b'573440114776f41900661b03'</td>\n",
       "      <td>b\"What is Tucson's Fox station?\"</td>\n",
       "      <td>b'Tucson,_Arizona'</td>\n",
       "    </tr>\n",
       "    <tr>\n",
       "      <th>4</th>\n",
       "      <td>b'367'</td>\n",
       "      <td>b'305'</td>\n",
       "      <td>b\"Situated on one of the world's largest natur...</td>\n",
       "      <td>b'56ce3124aab44d1400b8852d'</td>\n",
       "      <td>b'What is the size of New York City in square ...</td>\n",
       "      <td>b'New_York_City'</td>\n",
       "    </tr>\n",
       "  </tbody>\n",
       "</table>\n",
       "</div>"
      ],
      "text/plain": [
       "  answers/answer_start                            answers/text  \\\n",
       "0               b'427'                        b'mobile phones'   \n",
       "1              b'1020'                                  b'300'   \n",
       "2               b'339'  b'fossil pollen deposits in sediments'   \n",
       "3               b'347'                           b'KMSB-TV 11'   \n",
       "4               b'367'                                  b'305'   \n",
       "\n",
       "                                             context  \\\n",
       "0  b'The difference in the above factors for the ...   \n",
       "1  b\"The coronation of Charlemagne as emperor on ...   \n",
       "2  b'Plant responses to climate and other environ...   \n",
       "3  b'The Tucson metro area is served by many loca...   \n",
       "4  b\"Situated on one of the world's largest natur...   \n",
       "\n",
       "                            id  \\\n",
       "0  b'57306bf68ab72b1400f9c4dc'   \n",
       "1  b'56fb69e38ddada1400cd63f7'   \n",
       "2  b'5726ccf9f1498d1400e8eb95'   \n",
       "3  b'573440114776f41900661b03'   \n",
       "4  b'56ce3124aab44d1400b8852d'   \n",
       "\n",
       "                                            question               title  \n",
       "0  b'What is one use that would require an antenn...  b'Antenna_(radio)'  \n",
       "1  b'About how many counts existed in the Carolin...      b'Middle_Ages'  \n",
       "2  b'How can climate changes be determined from s...           b'Botany'  \n",
       "3                   b\"What is Tucson's Fox station?\"  b'Tucson,_Arizona'  \n",
       "4  b'What is the size of New York City in square ...    b'New_York_City'  "
      ]
     },
     "execution_count": 37,
     "metadata": {},
     "output_type": "execute_result"
    }
   ],
   "source": [
    "copy.head()"
   ]
  },
  {
   "cell_type": "code",
   "execution_count": 42,
   "id": "21122893-5bfc-49eb-b169-783d34cde3d9",
   "metadata": {},
   "outputs": [],
   "source": [
    "val_df[\"answers/text\"] = val_df[\"answers/text\"].apply(lambda x: x[0])\n",
    "val_df[\"answers/answer_start\"] = val_df[\"answers/answer_start\"].apply(lambda x: str(x[0]).encode())"
   ]
  },
  {
   "cell_type": "code",
   "execution_count": 43,
   "id": "1e32f578-1a80-40ff-85af-f59e6021ee7b",
   "metadata": {},
   "outputs": [],
   "source": [
    "val_df.to_csv(\"datasets/val.csv\",sep=\"#\",mode=\"wb\",index=False)"
   ]
  },
  {
   "cell_type": "code",
   "execution_count": null,
   "id": "053f8a92-fb75-43f0-a92a-54b6f9a9f753",
   "metadata": {},
   "outputs": [],
   "source": []
  }
 ],
 "metadata": {
  "kernelspec": {
   "display_name": "Python 3 (ipykernel)",
   "language": "python",
   "name": "python3"
  },
  "language_info": {
   "codemirror_mode": {
    "name": "ipython",
    "version": 3
   },
   "file_extension": ".py",
   "mimetype": "text/x-python",
   "name": "python",
   "nbconvert_exporter": "python",
   "pygments_lexer": "ipython3",
   "version": "3.8.0"
  }
 },
 "nbformat": 4,
 "nbformat_minor": 5
}
